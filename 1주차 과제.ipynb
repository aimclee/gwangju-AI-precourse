{
  "nbformat": 4,
  "nbformat_minor": 0,
  "metadata": {
    "colab": {
      "name": "Untitled0.ipynb",
      "provenance": [],
      "authorship_tag": "ABX9TyOCmXJjSvCF5KMnR+DLvoL8",
      "include_colab_link": true
    },
    "kernelspec": {
      "name": "python3",
      "display_name": "Python 3"
    }
  },
  "cells": [
    {
      "cell_type": "markdown",
      "metadata": {
        "id": "view-in-github",
        "colab_type": "text"
      },
      "source": [
        "<a href=\"https://colab.research.google.com/github/aimclee/gwangju-AI-precourse/blob/master/1%EC%A3%BC%EC%B0%A8%20%EA%B3%BC%EC%A0%9C.ipynb\" target=\"_parent\"><img src=\"https://colab.research.google.com/assets/colab-badge.svg\" alt=\"Open In Colab\"/></a>"
      ]
    },
    {
      "cell_type": "markdown",
      "metadata": {
        "id": "uwKmjS_r1QFm",
        "colab_type": "text"
      },
      "source": [
        "###1. 음성인식 : 아마존 AI 음성인식 플랫폼 알렉사\n",
        "###2. 자율주행 : 자동차(테슬라 - 오토파일럿)\n",
        "###3. 이미지 : 엔트러피(Entrupy) - 명품판별 인공지능 스캐너(사진 촬영하면 이미지 분석 후 명품 판별)\n",
        "###4. 언어 : Brity (삼성SDS의 자연어로 대화해 고객이 요청하는 업무를 수행하는 기업을 위한 대화형 AI 서비스)"
      ]
    }
  ]
}